{
 "cells": [
  {
   "cell_type": "code",
   "execution_count": 1,
   "metadata": {},
   "outputs": [],
   "source": [
    "from FCA import BinaryFCAClassifier, format_formula_as_str\n",
    "\n",
    "\n",
    "import pathlib\n",
    "\n",
    "import numpy as np\n",
    "import pandas as pd\n",
    "from tqdm import notebook\n",
    "from sklearn.preprocessing import MultiLabelBinarizer\n",
    "from sklearn.feature_extraction.text import CountVectorizer\n",
    "from sklearn.feature_extraction.text import TfidfVectorizer\n",
    "from sklearn.feature_extraction.text import TfidfTransformer\n",
    "from sklearn.metrics import precision_score, recall_score, f1_score"
   ]
  },
  {
   "cell_type": "code",
   "execution_count": 2,
   "metadata": {},
   "outputs": [],
   "source": [
    "base_path = pathlib.Path('habr_news_dataset')\n",
    "\n",
    "train_df_path = pathlib.Path(base_path, 'train_df.csv')\n",
    "test_df_path = pathlib.Path(base_path, 'test_df.csv')\n",
    "\n",
    "train_df = pd.read_csv(train_df_path)\n",
    "test_df = pd.read_csv(test_df_path)"
   ]
  },
  {
   "cell_type": "code",
   "execution_count": 3,
   "metadata": {},
   "outputs": [],
   "source": [
    "def gen_corpus(df):\n",
    "    for class_idx, row in notebook.tqdm(df.iterrows()):\n",
    "        yield row['parsed'].split()"
   ]
  },
  {
   "cell_type": "code",
   "execution_count": 4,
   "metadata": {},
   "outputs": [
    {
     "name": "stderr",
     "output_type": "stream",
     "text": [
      "c:\\ProgramData\\Anaconda3\\envs\\pfa_env_test\\lib\\site-packages\\sklearn\\feature_extraction\\text.py:528: UserWarning: The parameter 'token_pattern' will not be used since 'tokenizer' is not None'\n",
      "  warnings.warn(\n"
     ]
    },
    {
     "data": {
      "application/vnd.jupyter.widget-view+json": {
       "model_id": "7247990313ad4c9e8e8757ff65c7621b",
       "version_major": 2,
       "version_minor": 0
      },
      "text/plain": [
       "0it [00:00, ?it/s]"
      ]
     },
     "metadata": {},
     "output_type": "display_data"
    },
    {
     "data": {
      "application/vnd.jupyter.widget-view+json": {
       "model_id": "61f9b691d5844a7ab6bc5ca07e8598b5",
       "version_major": 2,
       "version_minor": 0
      },
      "text/plain": [
       "0it [00:00, ?it/s]"
      ]
     },
     "metadata": {},
     "output_type": "display_data"
    }
   ],
   "source": [
    "vectorizer_count = CountVectorizer(tokenizer=lambda doc: doc, lowercase=False, min_df=5)\n",
    "vectorizer_tfidf = TfidfTransformer()\n",
    "\n",
    "gen_corpus_train = gen_corpus(train_df)\n",
    "sparse_train = vectorizer_count.fit_transform(gen_corpus_train)\n",
    "X_train = vectorizer_tfidf.fit_transform(sparse_train)\n",
    "\n",
    "gen_corpus_test = gen_corpus(test_df)\n",
    "sparse_test = vectorizer_count.transform(gen_corpus_test)\n",
    "X_test = vectorizer_tfidf.transform(sparse_test)"
   ]
  },
  {
   "cell_type": "code",
   "execution_count": 5,
   "metadata": {},
   "outputs": [],
   "source": [
    "train_df = train_df.fillna('')\n",
    "test_df = test_df.fillna('')\n",
    "\n",
    "from ast import literal_eval\n",
    "train_df['topics'] = train_df['topics'].apply(lambda x: literal_eval(x))\n",
    "test_df['topics'] = test_df['topics'].apply(lambda x: literal_eval(x))"
   ]
  },
  {
   "cell_type": "code",
   "execution_count": 6,
   "metadata": {},
   "outputs": [],
   "source": [
    "multilabel_binarizer = MultiLabelBinarizer()\n",
    "multilabel_binarizer.fit(train_df.topics)\n",
    "\n",
    "y_train = multilabel_binarizer.transform(train_df.topics)\n",
    "y_test = multilabel_binarizer.transform(test_df.topics)\n",
    "class_names = multilabel_binarizer.classes_"
   ]
  },
  {
   "cell_type": "code",
   "execution_count": 7,
   "metadata": {},
   "outputs": [
    {
     "data": {
      "text/plain": [
       "array(['Big Data', 'IT-компании', 'Open source', 'Алгоритмы', 'Гаджеты',\n",
       "       'Законодательство в IT', 'Информационная безопасность',\n",
       "       'Искусственный интеллект', 'Машинное обучение',\n",
       "       'Научно-популярное', 'Облачные сервисы', 'Программирование',\n",
       "       'Работа с видео', 'Разработка веб-сайтов',\n",
       "       'Разработка мобильных приложений', 'Разработка под Android',\n",
       "       'Смартфоны', 'Софт', 'Социальные сети и сообщества',\n",
       "       'Финансы в IT'], dtype=object)"
      ]
     },
     "execution_count": 7,
     "metadata": {},
     "output_type": "execute_result"
    }
   ],
   "source": [
    "class_names"
   ]
  },
  {
   "cell_type": "code",
   "execution_count": 8,
   "metadata": {},
   "outputs": [
    {
     "data": {
      "application/vnd.jupyter.widget-view+json": {
       "model_id": "a5ba45a1bb2849149b5d6651602fb90a",
       "version_major": 2,
       "version_minor": 0
      },
      "text/plain": [
       "0it [00:00, ?it/s]"
      ]
     },
     "metadata": {},
     "output_type": "display_data"
    }
   ],
   "source": [
    "def eval_metrics(y_true, y_pred):\n",
    "    f1 = f1_score(y_true, y_pred)\n",
    "    precision = precision_score(y_true, y_pred)\n",
    "    recall = recall_score(y_true, y_pred)\n",
    "    return f1, precision, recall\n",
    "\n",
    "\n",
    "results = []\n",
    "inverse_idx = None\n",
    "feature_names = vectorizer_count.get_feature_names_out()\n",
    "\n",
    "\n",
    "for class_idx, class_name in notebook.tqdm(enumerate(class_names)):\n",
    "    clf = BinaryFCAClassifier()\n",
    "    clf.fit(X_train, y_train[:, class_idx], inverse_idx=inverse_idx)\n",
    "\n",
    "    formula = clf.get_formula(feature_names=feature_names)\n",
    "\n",
    "    y_pred_train = clf.predict(X_train)\n",
    "    f1_train, precision_train, recall_train = eval_metrics(y_train[:, class_idx], y_pred_train)\n",
    "\n",
    "    y_pred_test = clf.predict(X_test)\n",
    "    f1_test, precision_test, recall_test = eval_metrics(y_test[:, class_idx], y_pred_test)\n",
    "    \n",
    "    results.append({'class_name': class_name,\n",
    "                    'formula': formula,\n",
    "                    'f1 train': f1_train,\n",
    "                    'f1 test': f1_test,\n",
    "                    'precision train': precision_train,\n",
    "                    'recall train': recall_train,\n",
    "                    'precision test': precision_test,\n",
    "                    'recall test': recall_test})\n",
    "\n",
    "    inverse_idx = clf._inverse_idx"
   ]
  },
  {
   "cell_type": "code",
   "execution_count": 9,
   "metadata": {},
   "outputs": [],
   "source": [
    "results_df = pd.DataFrame(results)"
   ]
  },
  {
   "cell_type": "code",
   "execution_count": 10,
   "metadata": {},
   "outputs": [],
   "source": [
    "float_columns = ['f1 train', 'f1 test', 'precision train','recall train', 'precision test', 'recall test']\n",
    "\n",
    "results_df[float_columns] = results_df[float_columns].apply(lambda x: round(x, 4))\n",
    "results_df['formula'] = results_df['formula'].apply(format_formula_as_str)"
   ]
  },
  {
   "cell_type": "code",
   "execution_count": 11,
   "metadata": {},
   "outputs": [
    {
     "data": {
      "text/html": [
       "<table border=\"1\" class=\"dataframe\">\n",
       "  <thead>\n",
       "    <tr style=\"text-align: right;\">\n",
       "      <th></th>\n",
       "      <th>class_name</th>\n",
       "      <th>formula</th>\n",
       "      <th>f1 train</th>\n",
       "      <th>f1 test</th>\n",
       "      <th>precision train</th>\n",
       "      <th>recall train</th>\n",
       "      <th>precision test</th>\n",
       "      <th>recall test</th>\n",
       "    </tr>\n",
       "  </thead>\n",
       "  <tbody>\n",
       "    <tr>\n",
       "      <th>0</th>\n",
       "      <td>Big Data</td>\n",
       "      <td>data  ||   <br> аналитик   &amp;&amp;   задача   &amp;&amp;   данные</td>\n",
       "      <td>0.4615</td>\n",
       "      <td>0.4583</td>\n",
       "      <td>0.3803</td>\n",
       "      <td>0.5870</td>\n",
       "      <td>0.3667</td>\n",
       "      <td>0.6111</td>\n",
       "    </tr>\n",
       "    <tr>\n",
       "      <th>1</th>\n",
       "      <td>IT-компании</td>\n",
       "      <td>компания</td>\n",
       "      <td>0.6188</td>\n",
       "      <td>0.6169</td>\n",
       "      <td>0.5088</td>\n",
       "      <td>0.7897</td>\n",
       "      <td>0.5107</td>\n",
       "      <td>0.7789</td>\n",
       "    </tr>\n",
       "    <tr>\n",
       "      <th>2</th>\n",
       "      <td>Open source</td>\n",
       "      <td>github  ||   <br> исходный   &amp;&amp;   код</td>\n",
       "      <td>0.5330</td>\n",
       "      <td>0.5545</td>\n",
       "      <td>0.4302</td>\n",
       "      <td>0.7004</td>\n",
       "      <td>0.4660</td>\n",
       "      <td>0.6846</td>\n",
       "    </tr>\n",
       "    <tr>\n",
       "      <th>3</th>\n",
       "      <td>Алгоритмы</td>\n",
       "      <td>алгоритм   &amp;&amp;   исследователь  ||   <br> алгоритм   &amp;&amp;   ия</td>\n",
       "      <td>0.3789</td>\n",
       "      <td>0.5000</td>\n",
       "      <td>0.2951</td>\n",
       "      <td>0.5294</td>\n",
       "      <td>0.4217</td>\n",
       "      <td>0.6140</td>\n",
       "    </tr>\n",
       "    <tr>\n",
       "      <th>4</th>\n",
       "      <td>Гаджеты</td>\n",
       "      <td>гаджет  ||   <br> устройство   &amp;&amp;   представить</td>\n",
       "      <td>0.4891</td>\n",
       "      <td>0.4595</td>\n",
       "      <td>0.4297</td>\n",
       "      <td>0.5676</td>\n",
       "      <td>0.4198</td>\n",
       "      <td>0.5075</td>\n",
       "    </tr>\n",
       "    <tr>\n",
       "      <th>5</th>\n",
       "      <td>Законодательство в IT</td>\n",
       "      <td>суд  ||   <br> рф  ||   <br> закон</td>\n",
       "      <td>0.5256</td>\n",
       "      <td>0.5331</td>\n",
       "      <td>0.4048</td>\n",
       "      <td>0.7490</td>\n",
       "      <td>0.4282</td>\n",
       "      <td>0.7061</td>\n",
       "    </tr>\n",
       "    <tr>\n",
       "      <th>6</th>\n",
       "      <td>Информационная безопасность</td>\n",
       "      <td>атака  ||   <br> безопасность  ||   <br> злоумышленник  ||   <br> уязвимость</td>\n",
       "      <td>0.5363</td>\n",
       "      <td>0.5458</td>\n",
       "      <td>0.4169</td>\n",
       "      <td>0.7517</td>\n",
       "      <td>0.4281</td>\n",
       "      <td>0.7527</td>\n",
       "    </tr>\n",
       "    <tr>\n",
       "      <th>7</th>\n",
       "      <td>Искусственный интеллект</td>\n",
       "      <td>ия  ||   <br> интеллект  ||   <br> искусственный  ||   <br> нейросеть</td>\n",
       "      <td>0.7386</td>\n",
       "      <td>0.7351</td>\n",
       "      <td>0.6447</td>\n",
       "      <td>0.8646</td>\n",
       "      <td>0.6476</td>\n",
       "      <td>0.8500</td>\n",
       "    </tr>\n",
       "    <tr>\n",
       "      <th>8</th>\n",
       "      <td>Машинное обучение</td>\n",
       "      <td>машинный   &amp;&amp;   обучение  ||   <br> машинный  ||   <br> обучение  ||   <br> нейросеть</td>\n",
       "      <td>0.5677</td>\n",
       "      <td>0.6170</td>\n",
       "      <td>0.4202</td>\n",
       "      <td>0.8746</td>\n",
       "      <td>0.4819</td>\n",
       "      <td>0.8571</td>\n",
       "    </tr>\n",
       "    <tr>\n",
       "      <th>9</th>\n",
       "      <td>Научно-популярное</td>\n",
       "      <td>учёный  ||   <br> космический</td>\n",
       "      <td>0.6897</td>\n",
       "      <td>0.6818</td>\n",
       "      <td>0.6545</td>\n",
       "      <td>0.7289</td>\n",
       "      <td>0.6176</td>\n",
       "      <td>0.7609</td>\n",
       "    </tr>\n",
       "    <tr>\n",
       "      <th>10</th>\n",
       "      <td>Облачные сервисы</td>\n",
       "      <td>облачный</td>\n",
       "      <td>0.4974</td>\n",
       "      <td>0.3857</td>\n",
       "      <td>0.5233</td>\n",
       "      <td>0.4740</td>\n",
       "      <td>0.4135</td>\n",
       "      <td>0.3613</td>\n",
       "    </tr>\n",
       "    <tr>\n",
       "      <th>11</th>\n",
       "      <td>Программирование</td>\n",
       "      <td>программирование  ||   <br> программист</td>\n",
       "      <td>0.4402</td>\n",
       "      <td>0.4072</td>\n",
       "      <td>0.3770</td>\n",
       "      <td>0.5287</td>\n",
       "      <td>0.2982</td>\n",
       "      <td>0.6415</td>\n",
       "    </tr>\n",
       "    <tr>\n",
       "      <th>12</th>\n",
       "      <td>Работа с видео</td>\n",
       "      <td>видео</td>\n",
       "      <td>0.4399</td>\n",
       "      <td>0.3616</td>\n",
       "      <td>0.3154</td>\n",
       "      <td>0.7268</td>\n",
       "      <td>0.2593</td>\n",
       "      <td>0.5976</td>\n",
       "    </tr>\n",
       "    <tr>\n",
       "      <th>13</th>\n",
       "      <td>Разработка веб-сайтов</td>\n",
       "      <td>веб   &amp;&amp;   сайт   &amp;&amp;   разработчик  ||   <br> html</td>\n",
       "      <td>0.3471</td>\n",
       "      <td>0.3182</td>\n",
       "      <td>0.2819</td>\n",
       "      <td>0.4516</td>\n",
       "      <td>0.2857</td>\n",
       "      <td>0.3590</td>\n",
       "    </tr>\n",
       "    <tr>\n",
       "      <th>14</th>\n",
       "      <td>Разработка мобильных приложений</td>\n",
       "      <td>мобильный   &amp;&amp;   приложение   &amp;&amp;   разработчик</td>\n",
       "      <td>0.4229</td>\n",
       "      <td>0.3763</td>\n",
       "      <td>0.4775</td>\n",
       "      <td>0.3795</td>\n",
       "      <td>0.3846</td>\n",
       "      <td>0.3684</td>\n",
       "    </tr>\n",
       "    <tr>\n",
       "      <th>15</th>\n",
       "      <td>Разработка под Android</td>\n",
       "      <td>android   &amp;&amp;   google</td>\n",
       "      <td>0.5577</td>\n",
       "      <td>0.5759</td>\n",
       "      <td>0.5000</td>\n",
       "      <td>0.6304</td>\n",
       "      <td>0.5670</td>\n",
       "      <td>0.5851</td>\n",
       "    </tr>\n",
       "    <tr>\n",
       "      <th>16</th>\n",
       "      <td>Смартфоны</td>\n",
       "      <td>смартфон  ||   <br> iphone</td>\n",
       "      <td>0.6569</td>\n",
       "      <td>0.6718</td>\n",
       "      <td>0.5215</td>\n",
       "      <td>0.8872</td>\n",
       "      <td>0.5647</td>\n",
       "      <td>0.8291</td>\n",
       "    </tr>\n",
       "    <tr>\n",
       "      <th>17</th>\n",
       "      <td>Софт</td>\n",
       "      <td>windows  ||   <br> ос</td>\n",
       "      <td>0.4837</td>\n",
       "      <td>0.4956</td>\n",
       "      <td>0.4685</td>\n",
       "      <td>0.5000</td>\n",
       "      <td>0.4693</td>\n",
       "      <td>0.5250</td>\n",
       "    </tr>\n",
       "    <tr>\n",
       "      <th>18</th>\n",
       "      <td>Социальные сети и сообщества</td>\n",
       "      <td>соцсеть  ||   <br> контент  ||   <br> социальный   &amp;&amp;   сеть</td>\n",
       "      <td>0.5266</td>\n",
       "      <td>0.5190</td>\n",
       "      <td>0.4290</td>\n",
       "      <td>0.6817</td>\n",
       "      <td>0.4158</td>\n",
       "      <td>0.6905</td>\n",
       "    </tr>\n",
       "    <tr>\n",
       "      <th>19</th>\n",
       "      <td>Финансы в IT</td>\n",
       "      <td>банк  ||   <br> млрд</td>\n",
       "      <td>0.4386</td>\n",
       "      <td>0.4604</td>\n",
       "      <td>0.3874</td>\n",
       "      <td>0.5056</td>\n",
       "      <td>0.3840</td>\n",
       "      <td>0.5749</td>\n",
       "    </tr>\n",
       "  </tbody>\n",
       "</table>"
      ],
      "text/plain": [
       "<IPython.core.display.HTML object>"
      ]
     },
     "metadata": {},
     "output_type": "display_data"
    }
   ],
   "source": [
    "from IPython.display import display, HTML\n",
    "display(HTML( results_df.to_html().replace(\"\\\\n\", \"<br>\") ))\n"
   ]
  },
  {
   "cell_type": "code",
   "execution_count": null,
   "metadata": {},
   "outputs": [],
   "source": []
  }
 ],
 "metadata": {
  "kernelspec": {
   "display_name": "Python 3.9.16 ('pfa_env_test')",
   "language": "python",
   "name": "python3"
  },
  "language_info": {
   "codemirror_mode": {
    "name": "ipython",
    "version": 3
   },
   "file_extension": ".py",
   "mimetype": "text/x-python",
   "name": "python",
   "nbconvert_exporter": "python",
   "pygments_lexer": "ipython3",
   "version": "3.9.16"
  },
  "orig_nbformat": 4,
  "vscode": {
   "interpreter": {
    "hash": "e6eda93f19525b8793417fa670a91c223178259c49e2ac38a09a3fa60af55537"
   }
  }
 },
 "nbformat": 4,
 "nbformat_minor": 2
}
