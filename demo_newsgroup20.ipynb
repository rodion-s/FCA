{
 "cells": [
  {
   "cell_type": "code",
   "execution_count": 1,
   "metadata": {},
   "outputs": [],
   "source": [
    "from FCA import BinaryFCAClassifier, format_formula_as_str\n",
    "\n",
    "import pathlib\n",
    "import re\n",
    "\n",
    "import numpy as np\n",
    "import pandas as pd\n",
    "from tqdm import notebook\n",
    "from sklearn.preprocessing import MultiLabelBinarizer\n",
    "from sklearn.feature_extraction.text import CountVectorizer\n",
    "from sklearn.feature_extraction.text import TfidfVectorizer\n",
    "from sklearn.feature_extraction.text import TfidfTransformer\n",
    "from sklearn.preprocessing import LabelBinarizer\n",
    "from sklearn.metrics import precision_score, recall_score, f1_score\n",
    "from sklearn.datasets import fetch_20newsgroups"
   ]
  },
  {
   "cell_type": "code",
   "execution_count": 2,
   "metadata": {},
   "outputs": [
    {
     "name": "stderr",
     "output_type": "stream",
     "text": [
      "c:\\ProgramData\\Anaconda3\\envs\\pfa_env_test\\lib\\site-packages\\sklearn\\feature_extraction\\text.py:528: UserWarning: The parameter 'token_pattern' will not be used since 'tokenizer' is not None'\n",
      "  warnings.warn(\n"
     ]
    },
    {
     "data": {
      "application/vnd.jupyter.widget-view+json": {
       "model_id": "00ce78b5e17a4cd6a2ebce187dc044e5",
       "version_major": 2,
       "version_minor": 0
      },
      "text/plain": [
       "  0%|          | 0/11314 [00:00<?, ?it/s]"
      ]
     },
     "metadata": {},
     "output_type": "display_data"
    },
    {
     "data": {
      "application/vnd.jupyter.widget-view+json": {
       "model_id": "d19dbe6dfadb45a3a79da32a127d60e9",
       "version_major": 2,
       "version_minor": 0
      },
      "text/plain": [
       "  0%|          | 0/7532 [00:00<?, ?it/s]"
      ]
     },
     "metadata": {},
     "output_type": "display_data"
    }
   ],
   "source": [
    "newsgroups_train = fetch_20newsgroups(subset='train')\n",
    "newsgroups_test = fetch_20newsgroups(subset='test')\n",
    "\n",
    "def gen_corpus(texts):\n",
    "    for text in notebook.tqdm(texts):\n",
    "        filtered_text = re.sub(r\"[\\W+]\", \" \", text.lower())\n",
    "        yield filtered_text.split()\n",
    "\n",
    "\n",
    "vectorizer_count = CountVectorizer(tokenizer=lambda doc: doc, lowercase=False, min_df=5)\n",
    "vectorizer_tfidf = TfidfTransformer()\n",
    "\n",
    "gen_corpus_train = gen_corpus(newsgroups_train.data)\n",
    "sparse_train = vectorizer_count.fit_transform(gen_corpus_train)\n",
    "X_train = vectorizer_tfidf.fit_transform(sparse_train)\n",
    "\n",
    "class_names = newsgroups_train.target_names\n",
    "\n",
    "gen_corpus_test = gen_corpus(newsgroups_test.data)\n",
    "sparse_test = vectorizer_count.transform(gen_corpus_test)\n",
    "X_test = vectorizer_tfidf.transform(sparse_test)"
   ]
  },
  {
   "cell_type": "code",
   "execution_count": 3,
   "metadata": {},
   "outputs": [
    {
     "data": {
      "text/plain": [
       "((11314, 20), (7532, 20))"
      ]
     },
     "execution_count": 3,
     "metadata": {},
     "output_type": "execute_result"
    }
   ],
   "source": [
    "binarizer = LabelBinarizer()\n",
    "\n",
    "y_train = binarizer.fit_transform(newsgroups_train.target)\n",
    "y_test = binarizer.transform(newsgroups_test.target)\n",
    "\n",
    "y_train.shape, y_test.shape"
   ]
  },
  {
   "cell_type": "code",
   "execution_count": 4,
   "metadata": {},
   "outputs": [
    {
     "data": {
      "text/plain": [
       "['alt.atheism',\n",
       " 'comp.graphics',\n",
       " 'comp.os.ms-windows.misc',\n",
       " 'comp.sys.ibm.pc.hardware',\n",
       " 'comp.sys.mac.hardware',\n",
       " 'comp.windows.x',\n",
       " 'misc.forsale',\n",
       " 'rec.autos',\n",
       " 'rec.motorcycles',\n",
       " 'rec.sport.baseball',\n",
       " 'rec.sport.hockey',\n",
       " 'sci.crypt',\n",
       " 'sci.electronics',\n",
       " 'sci.med',\n",
       " 'sci.space',\n",
       " 'soc.religion.christian',\n",
       " 'talk.politics.guns',\n",
       " 'talk.politics.mideast',\n",
       " 'talk.politics.misc',\n",
       " 'talk.religion.misc']"
      ]
     },
     "execution_count": 4,
     "metadata": {},
     "output_type": "execute_result"
    }
   ],
   "source": [
    "class_names"
   ]
  },
  {
   "cell_type": "code",
   "execution_count": 5,
   "metadata": {},
   "outputs": [
    {
     "data": {
      "application/vnd.jupyter.widget-view+json": {
       "model_id": "1884e8eabf934f52ba01c3e8119b7d5c",
       "version_major": 2,
       "version_minor": 0
      },
      "text/plain": [
       "0it [00:00, ?it/s]"
      ]
     },
     "metadata": {},
     "output_type": "display_data"
    }
   ],
   "source": [
    "def eval_metrics(y_true, y_pred):\n",
    "    f1 = f1_score(y_true, y_pred)\n",
    "    precision = precision_score(y_true, y_pred)\n",
    "    recall = recall_score(y_true, y_pred)\n",
    "    return f1, precision, recall\n",
    "\n",
    "\n",
    "results = []\n",
    "inverse_idx = None\n",
    "feature_names = vectorizer_count.get_feature_names_out()\n",
    "\n",
    "\n",
    "for class_idx, class_name in notebook.tqdm(enumerate(class_names)):\n",
    "    clf = BinaryFCAClassifier()\n",
    "    clf.fit(X_train, y_train[:, class_idx], inverse_idx=inverse_idx)\n",
    "\n",
    "    formula = clf.get_formula(feature_names=feature_names)\n",
    "\n",
    "    y_pred_train = clf.predict(X_train)\n",
    "    f1_train, precision_train, recall_train = eval_metrics(y_train[:, class_idx], y_pred_train)\n",
    "\n",
    "    y_pred_test = clf.predict(X_test)\n",
    "    f1_test, precision_test, recall_test = eval_metrics(y_test[:, class_idx], y_pred_test)\n",
    "    \n",
    "    results.append({'class_name': class_name,\n",
    "                    'formula': formula,\n",
    "                    'f1 train': f1_train,\n",
    "                    'f1 test': f1_test,\n",
    "                    'precision train': precision_train,\n",
    "                    'recall train': recall_train,\n",
    "                    'precision test': precision_test,\n",
    "                    'recall test': recall_test})\n",
    "\n",
    "    inverse_idx = clf._inverse_idx"
   ]
  },
  {
   "cell_type": "code",
   "execution_count": 6,
   "metadata": {},
   "outputs": [],
   "source": [
    "results_df = pd.DataFrame(results)"
   ]
  },
  {
   "cell_type": "code",
   "execution_count": 7,
   "metadata": {},
   "outputs": [],
   "source": [
    "float_columns = ['f1 train', 'f1 test', 'precision train','recall train', 'precision test', 'recall test']\n",
    "\n",
    "results_df[float_columns] = results_df[float_columns].apply(lambda x: round(x, 4))\n",
    "results_df['formula'] = results_df['formula'].apply(format_formula_as_str)"
   ]
  },
  {
   "cell_type": "code",
   "execution_count": 8,
   "metadata": {},
   "outputs": [
    {
     "data": {
      "text/html": [
       "<table border=\"1\" class=\"dataframe\">\n",
       "  <thead>\n",
       "    <tr style=\"text-align: right;\">\n",
       "      <th></th>\n",
       "      <th>class_name</th>\n",
       "      <th>formula</th>\n",
       "      <th>f1 train</th>\n",
       "      <th>f1 test</th>\n",
       "      <th>precision train</th>\n",
       "      <th>recall train</th>\n",
       "      <th>precision test</th>\n",
       "      <th>recall test</th>\n",
       "    </tr>\n",
       "  </thead>\n",
       "  <tbody>\n",
       "    <tr>\n",
       "      <th>0</th>\n",
       "      <td>alt.atheism</td>\n",
       "      <td>atheists  ||   <br> keith   &amp;&amp;   writes  ||   <br> keith  ||   <br> atheism</td>\n",
       "      <td>0.5480</td>\n",
       "      <td>0.4555</td>\n",
       "      <td>0.5757</td>\n",
       "      <td>0.5229</td>\n",
       "      <td>0.5267</td>\n",
       "      <td>0.4013</td>\n",
       "    </tr>\n",
       "    <tr>\n",
       "      <th>1</th>\n",
       "      <td>comp.graphics</td>\n",
       "      <td>graphics  ||   <br> image   &amp;&amp;   lines   &amp;&amp;   from  ||   <br> 3d   &amp;&amp;   lines   &amp;&amp;   from</td>\n",
       "      <td>0.4695</td>\n",
       "      <td>0.4726</td>\n",
       "      <td>0.4276</td>\n",
       "      <td>0.5205</td>\n",
       "      <td>0.4251</td>\n",
       "      <td>0.5321</td>\n",
       "    </tr>\n",
       "    <tr>\n",
       "      <th>2</th>\n",
       "      <td>comp.os.ms-windows.misc</td>\n",
       "      <td>windows</td>\n",
       "      <td>0.5822</td>\n",
       "      <td>0.5742</td>\n",
       "      <td>0.5089</td>\n",
       "      <td>0.6802</td>\n",
       "      <td>0.4981</td>\n",
       "      <td>0.6777</td>\n",
       "    </tr>\n",
       "    <tr>\n",
       "      <th>3</th>\n",
       "      <td>comp.sys.ibm.pc.hardware</td>\n",
       "      <td>controller   &amp;&amp;   organization   &amp;&amp;   lines  ||   <br> bus   &amp;&amp;   organization   &amp;&amp;   lines  ||   <br> card   &amp;&amp;   organization   &amp;&amp;   lines  ||   <br> card   &amp;&amp;   lines  ||   <br> ide</td>\n",
       "      <td>0.3924</td>\n",
       "      <td>0.3794</td>\n",
       "      <td>0.3370</td>\n",
       "      <td>0.4695</td>\n",
       "      <td>0.3437</td>\n",
       "      <td>0.4235</td>\n",
       "    </tr>\n",
       "    <tr>\n",
       "      <th>4</th>\n",
       "      <td>comp.sys.mac.hardware</td>\n",
       "      <td>mac   &amp;&amp;   lines   &amp;&amp;   from  ||   <br> apple   &amp;&amp;   from   &amp;&amp;   subject  ||   <br> quadra   &amp;&amp;   from  ||   <br> centris   &amp;&amp;   from  ||   <br> simms   &amp;&amp;   lines   &amp;&amp;   from  ||   <br> powerbook   &amp;&amp;   lines   &amp;&amp;   from</td>\n",
       "      <td>0.6120</td>\n",
       "      <td>0.5451</td>\n",
       "      <td>0.5342</td>\n",
       "      <td>0.7163</td>\n",
       "      <td>0.4569</td>\n",
       "      <td>0.6753</td>\n",
       "    </tr>\n",
       "    <tr>\n",
       "      <th>5</th>\n",
       "      <td>comp.windows.x</td>\n",
       "      <td>window   &amp;&amp;   organization   &amp;&amp;   from  ||   <br> window  ||   <br> motif   &amp;&amp;   subject</td>\n",
       "      <td>0.4930</td>\n",
       "      <td>0.4348</td>\n",
       "      <td>0.5549</td>\n",
       "      <td>0.4435</td>\n",
       "      <td>0.5331</td>\n",
       "      <td>0.3671</td>\n",
       "    </tr>\n",
       "    <tr>\n",
       "      <th>6</th>\n",
       "      <td>misc.forsale</td>\n",
       "      <td>sale  ||   <br> shipping   &amp;&amp;   from</td>\n",
       "      <td>0.6820</td>\n",
       "      <td>0.7134</td>\n",
       "      <td>0.6803</td>\n",
       "      <td>0.6838</td>\n",
       "      <td>0.7218</td>\n",
       "      <td>0.7051</td>\n",
       "    </tr>\n",
       "    <tr>\n",
       "      <th>7</th>\n",
       "      <td>rec.autos</td>\n",
       "      <td>car   &amp;&amp;   lines   &amp;&amp;   subject  ||   <br> cars   &amp;&amp;   the   &amp;&amp;   lines</td>\n",
       "      <td>0.6219</td>\n",
       "      <td>0.6088</td>\n",
       "      <td>0.5802</td>\n",
       "      <td>0.6700</td>\n",
       "      <td>0.6065</td>\n",
       "      <td>0.6111</td>\n",
       "    </tr>\n",
       "    <tr>\n",
       "      <th>8</th>\n",
       "      <td>rec.motorcycles</td>\n",
       "      <td>dod  ||   <br> bike   &amp;&amp;   from  ||   <br> ride   &amp;&amp;   lines  ||   <br> bikes   &amp;&amp;   subject  ||   <br> motorcycle   &amp;&amp;   from   &amp;&amp;   subject</td>\n",
       "      <td>0.8124</td>\n",
       "      <td>0.7960</td>\n",
       "      <td>0.7930</td>\n",
       "      <td>0.8328</td>\n",
       "      <td>0.7980</td>\n",
       "      <td>0.7940</td>\n",
       "    </tr>\n",
       "    <tr>\n",
       "      <th>9</th>\n",
       "      <td>rec.sport.baseball</td>\n",
       "      <td>baseball  ||   <br> team   &amp;&amp;   edu  ||   <br> players   &amp;&amp;   edu  ||   <br> season</td>\n",
       "      <td>0.5374</td>\n",
       "      <td>0.5270</td>\n",
       "      <td>0.4890</td>\n",
       "      <td>0.5963</td>\n",
       "      <td>0.4852</td>\n",
       "      <td>0.5768</td>\n",
       "    </tr>\n",
       "    <tr>\n",
       "      <th>10</th>\n",
       "      <td>rec.sport.hockey</td>\n",
       "      <td>hockey  ||   <br> team  ||   <br> nhl</td>\n",
       "      <td>0.6614</td>\n",
       "      <td>0.6602</td>\n",
       "      <td>0.6336</td>\n",
       "      <td>0.6917</td>\n",
       "      <td>0.6422</td>\n",
       "      <td>0.6792</td>\n",
       "    </tr>\n",
       "    <tr>\n",
       "      <th>11</th>\n",
       "      <td>sci.crypt</td>\n",
       "      <td>clipper  ||   <br> encryption</td>\n",
       "      <td>0.7820</td>\n",
       "      <td>0.7421</td>\n",
       "      <td>0.9346</td>\n",
       "      <td>0.6723</td>\n",
       "      <td>0.9213</td>\n",
       "      <td>0.6212</td>\n",
       "    </tr>\n",
       "    <tr>\n",
       "      <th>12</th>\n",
       "      <td>sci.electronics</td>\n",
       "      <td>circuit   &amp;&amp;   organization  ||   <br> electronics   &amp;&amp;   lines   &amp;&amp;   from  ||   <br> voltage   &amp;&amp;   subject   &amp;&amp;   from  ||   <br> amp   &amp;&amp;   a   &amp;&amp;   the</td>\n",
       "      <td>0.4389</td>\n",
       "      <td>0.3947</td>\n",
       "      <td>0.6078</td>\n",
       "      <td>0.3435</td>\n",
       "      <td>0.5581</td>\n",
       "      <td>0.3053</td>\n",
       "    </tr>\n",
       "    <tr>\n",
       "      <th>13</th>\n",
       "      <td>sci.med</td>\n",
       "      <td>gordon   &amp;&amp;   banks  ||   <br> pitt  ||   <br> gordon   &amp;&amp;   is  ||   <br> disease  ||   <br> medical  ||   <br> doctor</td>\n",
       "      <td>0.5182</td>\n",
       "      <td>0.4323</td>\n",
       "      <td>0.4992</td>\n",
       "      <td>0.5387</td>\n",
       "      <td>0.4462</td>\n",
       "      <td>0.4192</td>\n",
       "    </tr>\n",
       "    <tr>\n",
       "      <th>14</th>\n",
       "      <td>sci.space</td>\n",
       "      <td>space  ||   <br> nasa  ||   <br> orbit  ||   <br> moon  ||   <br> launch</td>\n",
       "      <td>0.5777</td>\n",
       "      <td>0.5340</td>\n",
       "      <td>0.4584</td>\n",
       "      <td>0.7808</td>\n",
       "      <td>0.4249</td>\n",
       "      <td>0.7183</td>\n",
       "    </tr>\n",
       "    <tr>\n",
       "      <th>15</th>\n",
       "      <td>soc.religion.christian</td>\n",
       "      <td>rutgers   &amp;&amp;   1993  ||   <br> rutgers  ||   <br> god  ||   <br> christians  ||   <br> jesus  ||   <br> christ</td>\n",
       "      <td>0.5656</td>\n",
       "      <td>0.5139</td>\n",
       "      <td>0.4238</td>\n",
       "      <td>0.8497</td>\n",
       "      <td>0.3866</td>\n",
       "      <td>0.7663</td>\n",
       "    </tr>\n",
       "    <tr>\n",
       "      <th>16</th>\n",
       "      <td>talk.politics.guns</td>\n",
       "      <td>gun  ||   <br> guns  ||   <br> weapons  ||   <br> firearms  ||   <br> waco  ||   <br> batf</td>\n",
       "      <td>0.6840</td>\n",
       "      <td>0.5420</td>\n",
       "      <td>0.6014</td>\n",
       "      <td>0.7930</td>\n",
       "      <td>0.4575</td>\n",
       "      <td>0.6648</td>\n",
       "    </tr>\n",
       "    <tr>\n",
       "      <th>17</th>\n",
       "      <td>talk.politics.mideast</td>\n",
       "      <td>israel  ||   <br> israeli  ||   <br> turkish  ||   <br> armenia  ||   <br> arab</td>\n",
       "      <td>0.8281</td>\n",
       "      <td>0.7612</td>\n",
       "      <td>0.8649</td>\n",
       "      <td>0.7943</td>\n",
       "      <td>0.8673</td>\n",
       "      <td>0.6782</td>\n",
       "    </tr>\n",
       "    <tr>\n",
       "      <th>18</th>\n",
       "      <td>talk.politics.misc</td>\n",
       "      <td>clinton  ||   <br> gay  ||   <br> cramer</td>\n",
       "      <td>0.4363</td>\n",
       "      <td>0.4140</td>\n",
       "      <td>0.4382</td>\n",
       "      <td>0.4344</td>\n",
       "      <td>0.4088</td>\n",
       "      <td>0.4194</td>\n",
       "    </tr>\n",
       "    <tr>\n",
       "      <th>19</th>\n",
       "      <td>talk.religion.misc</td>\n",
       "      <td>christian  ||   <br> jesus  ||   <br> bible  ||   <br> god   &amp;&amp;   were  ||   <br> sandvik</td>\n",
       "      <td>0.3457</td>\n",
       "      <td>0.3051</td>\n",
       "      <td>0.2380</td>\n",
       "      <td>0.6313</td>\n",
       "      <td>0.2117</td>\n",
       "      <td>0.5458</td>\n",
       "    </tr>\n",
       "  </tbody>\n",
       "</table>"
      ],
      "text/plain": [
       "<IPython.core.display.HTML object>"
      ]
     },
     "metadata": {},
     "output_type": "display_data"
    }
   ],
   "source": [
    "from IPython.display import display, HTML\n",
    "display(HTML( results_df.to_html().replace(\"\\\\n\", \"<br>\") ))\n"
   ]
  },
  {
   "cell_type": "code",
   "execution_count": null,
   "metadata": {},
   "outputs": [],
   "source": []
  }
 ],
 "metadata": {
  "kernelspec": {
   "display_name": "Python 3.9.16 ('pfa_env_test')",
   "language": "python",
   "name": "python3"
  },
  "language_info": {
   "codemirror_mode": {
    "name": "ipython",
    "version": 3
   },
   "file_extension": ".py",
   "mimetype": "text/x-python",
   "name": "python",
   "nbconvert_exporter": "python",
   "pygments_lexer": "ipython3",
   "version": "3.9.16"
  },
  "orig_nbformat": 4,
  "vscode": {
   "interpreter": {
    "hash": "e6eda93f19525b8793417fa670a91c223178259c49e2ac38a09a3fa60af55537"
   }
  }
 },
 "nbformat": 4,
 "nbformat_minor": 2
}
